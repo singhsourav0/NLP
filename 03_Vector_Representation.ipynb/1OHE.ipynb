{
 "cells": [
  {
   "cell_type": "markdown",
   "id": "1436de9e",
   "metadata": {},
   "source": [
    "OHE, or **One-Hot Encoding**, is a technique used to represent categorical data as binary vectors. Each unique category is assigned a vector where one element is `1` (indicating the presence of that category) and all other elements are `0`.\n",
    "\n",
    "Example:\n"
   ]
  },
  {
   "cell_type": "code",
   "execution_count": 1,
   "id": "9295dbea",
   "metadata": {},
   "outputs": [],
   "source": [
    "sentences = [\"I love NLP\", \"my name is sourav\", \"I am a data science learner\", \"I am learning python\", \"I am learning NLP\"]"
   ]
  },
  {
   "cell_type": "code",
   "execution_count": 2,
   "id": "e4010356",
   "metadata": {},
   "outputs": [],
   "source": [
    "from sklearn.preprocessing import OneHotEncoder\n",
    "import pandas as pd"
   ]
  },
  {
   "cell_type": "code",
   "execution_count": 3,
   "id": "f44fad39",
   "metadata": {},
   "outputs": [],
   "source": [
    "tokens = [sentence.lower().split() for sentence in sentences]\n",
    "flat_tokens = list(set(word for sentence in tokens for word in sentence))\n"
   ]
  },
  {
   "cell_type": "code",
   "execution_count": 4,
   "id": "f48a8de9",
   "metadata": {},
   "outputs": [
    {
     "data": {
      "text/plain": [
       "list"
      ]
     },
     "execution_count": 4,
     "metadata": {},
     "output_type": "execute_result"
    }
   ],
   "source": [
    "type(flat_tokens)"
   ]
  },
  {
   "cell_type": "code",
   "execution_count": 5,
   "id": "1b88093e",
   "metadata": {},
   "outputs": [
    {
     "name": "stdout",
     "output_type": "stream",
     "text": [
      "Vocabulary: ['nlp', 'learner', 'sourav', 'love', 'data', 'learning', 'python', 'a', 'am', 'science', 'my', 'is', 'name', 'i']\n"
     ]
    }
   ],
   "source": [
    "# Step 2: Vocabulary\n",
    "print(\"Vocabulary:\", flat_tokens)"
   ]
  },
  {
   "cell_type": "code",
   "execution_count": 6,
   "id": "0e0fa560",
   "metadata": {},
   "outputs": [],
   "source": [
    "import pandas as pd"
   ]
  },
  {
   "cell_type": "code",
   "execution_count": 9,
   "id": "2eff3c98",
   "metadata": {},
   "outputs": [],
   "source": [
    "#Step 3: One-hot encoding\n",
    "df = pd.DataFrame(flat_tokens, columns=[\"word\"])\n",
    "# encoder = OneHotEncoder(sparse_output=False)\n",
    "\n",
    "# one_hot_encoded = encoder.fit_transform(df[categorical_columns])\n",
    "encoder = OneHotEncoder(sparse_output=False)\n",
    "one_hot_matrix = encoder.fit_transform(df[[\"word\"]])"
   ]
  },
  {
   "cell_type": "code",
   "execution_count": 10,
   "id": "cadc7e45",
   "metadata": {},
   "outputs": [
    {
     "name": "stdout",
     "output_type": "stream",
     "text": [
      "        Word  word_a  word_am  word_data  word_i  word_is  word_learner  \\\n",
      "0        nlp     0.0      0.0        0.0     0.0      0.0           0.0   \n",
      "1    learner     0.0      0.0        0.0     0.0      0.0           1.0   \n",
      "2     sourav     0.0      0.0        0.0     0.0      0.0           0.0   \n",
      "3       love     0.0      0.0        0.0     0.0      0.0           0.0   \n",
      "4       data     0.0      0.0        1.0     0.0      0.0           0.0   \n",
      "5   learning     0.0      0.0        0.0     0.0      0.0           0.0   \n",
      "6     python     0.0      0.0        0.0     0.0      0.0           0.0   \n",
      "7          a     1.0      0.0        0.0     0.0      0.0           0.0   \n",
      "8         am     0.0      1.0        0.0     0.0      0.0           0.0   \n",
      "9    science     0.0      0.0        0.0     0.0      0.0           0.0   \n",
      "10        my     0.0      0.0        0.0     0.0      0.0           0.0   \n",
      "11        is     0.0      0.0        0.0     0.0      1.0           0.0   \n",
      "12      name     0.0      0.0        0.0     0.0      0.0           0.0   \n",
      "13         i     0.0      0.0        0.0     1.0      0.0           0.0   \n",
      "\n",
      "    word_learning  word_love  word_my  word_name  word_nlp  word_python  \\\n",
      "0             0.0        0.0      0.0        0.0       1.0          0.0   \n",
      "1             0.0        0.0      0.0        0.0       0.0          0.0   \n",
      "2             0.0        0.0      0.0        0.0       0.0          0.0   \n",
      "3             0.0        1.0      0.0        0.0       0.0          0.0   \n",
      "4             0.0        0.0      0.0        0.0       0.0          0.0   \n",
      "5             1.0        0.0      0.0        0.0       0.0          0.0   \n",
      "6             0.0        0.0      0.0        0.0       0.0          1.0   \n",
      "7             0.0        0.0      0.0        0.0       0.0          0.0   \n",
      "8             0.0        0.0      0.0        0.0       0.0          0.0   \n",
      "9             0.0        0.0      0.0        0.0       0.0          0.0   \n",
      "10            0.0        0.0      1.0        0.0       0.0          0.0   \n",
      "11            0.0        0.0      0.0        0.0       0.0          0.0   \n",
      "12            0.0        0.0      0.0        1.0       0.0          0.0   \n",
      "13            0.0        0.0      0.0        0.0       0.0          0.0   \n",
      "\n",
      "    word_science  word_sourav  \n",
      "0            0.0          0.0  \n",
      "1            0.0          0.0  \n",
      "2            0.0          1.0  \n",
      "3            0.0          0.0  \n",
      "4            0.0          0.0  \n",
      "5            0.0          0.0  \n",
      "6            0.0          0.0  \n",
      "7            0.0          0.0  \n",
      "8            0.0          0.0  \n",
      "9            1.0          0.0  \n",
      "10           0.0          0.0  \n",
      "11           0.0          0.0  \n",
      "12           0.0          0.0  \n",
      "13           0.0          0.0  \n"
     ]
    }
   ],
   "source": [
    "# Show result\n",
    "encoded_df = pd.DataFrame(one_hot_matrix, columns=encoder.get_feature_names_out())\n",
    "encoded_df.insert(0, \"Word\", df[\"word\"])\n",
    "print(encoded_df)"
   ]
  },
  {
   "cell_type": "code",
   "execution_count": null,
   "id": "42874e6d",
   "metadata": {},
   "outputs": [],
   "source": []
  }
 ],
 "metadata": {
  "kernelspec": {
   "display_name": "Python 3",
   "language": "python",
   "name": "python3"
  },
  "language_info": {
   "codemirror_mode": {
    "name": "ipython",
    "version": 3
   },
   "file_extension": ".py",
   "mimetype": "text/x-python",
   "name": "python",
   "nbconvert_exporter": "python",
   "pygments_lexer": "ipython3",
   "version": "3.12.1"
  }
 },
 "nbformat": 4,
 "nbformat_minor": 5
}
