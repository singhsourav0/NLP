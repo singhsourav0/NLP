{
 "cells": [
  {
   "cell_type": "markdown",
   "id": "2951f81b",
   "metadata": {},
   "source": [
    "# Ngram\n"
   ]
  },
  {
   "cell_type": "markdown",
   "id": "d4b9b1d7",
   "metadata": {},
   "source": []
  },
  {
   "cell_type": "code",
   "execution_count": 1,
   "id": "f3d15c9c",
   "metadata": {},
   "outputs": [
    {
     "data": {
      "text/html": [
       "<div>\n",
       "<style scoped>\n",
       "    .dataframe tbody tr th:only-of-type {\n",
       "        vertical-align: middle;\n",
       "    }\n",
       "\n",
       "    .dataframe tbody tr th {\n",
       "        vertical-align: top;\n",
       "    }\n",
       "\n",
       "    .dataframe thead th {\n",
       "        text-align: right;\n",
       "    }\n",
       "</style>\n",
       "<table border=\"1\" class=\"dataframe\">\n",
       "  <thead>\n",
       "    <tr style=\"text-align: right;\">\n",
       "      <th></th>\n",
       "      <th>class</th>\n",
       "      <th>text</th>\n",
       "    </tr>\n",
       "  </thead>\n",
       "  <tbody>\n",
       "    <tr>\n",
       "      <th>0</th>\n",
       "      <td>ham</td>\n",
       "      <td>Go until jurong point, crazy.. Available only ...</td>\n",
       "    </tr>\n",
       "    <tr>\n",
       "      <th>1</th>\n",
       "      <td>ham</td>\n",
       "      <td>Ok lar... Joking wif u oni...</td>\n",
       "    </tr>\n",
       "    <tr>\n",
       "      <th>2</th>\n",
       "      <td>spam</td>\n",
       "      <td>Free entry in 2 a wkly comp to win FA Cup fina...</td>\n",
       "    </tr>\n",
       "    <tr>\n",
       "      <th>3</th>\n",
       "      <td>ham</td>\n",
       "      <td>U dun say so early hor... U c already then say...</td>\n",
       "    </tr>\n",
       "    <tr>\n",
       "      <th>4</th>\n",
       "      <td>ham</td>\n",
       "      <td>Nah I don't think he goes to usf, he lives aro...</td>\n",
       "    </tr>\n",
       "  </tbody>\n",
       "</table>\n",
       "</div>"
      ],
      "text/plain": [
       "  class                                               text\n",
       "0   ham  Go until jurong point, crazy.. Available only ...\n",
       "1   ham                      Ok lar... Joking wif u oni...\n",
       "2  spam  Free entry in 2 a wkly comp to win FA Cup fina...\n",
       "3   ham  U dun say so early hor... U c already then say...\n",
       "4   ham  Nah I don't think he goes to usf, he lives aro..."
      ]
     },
     "execution_count": 1,
     "metadata": {},
     "output_type": "execute_result"
    }
   ],
   "source": [
    "import pandas as pd\n",
    "message = pd.read_csv('spam.csv',  encoding='latin-1')\n",
    "message = message.drop(['Unnamed: 2', 'Unnamed: 3', 'Unnamed: 4'], axis=1)\n",
    "message = message.rename(columns={'v1': 'class', 'v2': 'text'})\n",
    "message.head()"
   ]
  },
  {
   "cell_type": "code",
   "execution_count": 2,
   "id": "62ef7641",
   "metadata": {},
   "outputs": [],
   "source": [
    "import re\n",
    "import nltk\n",
    "from nltk.corpus import stopwords"
   ]
  },
  {
   "cell_type": "code",
   "execution_count": 3,
   "id": "d2bd679f",
   "metadata": {},
   "outputs": [],
   "source": [
    "from nltk.stem import PorterStemmer\n",
    "stemmer = PorterStemmer()"
   ]
  },
  {
   "cell_type": "code",
   "execution_count": 4,
   "id": "a859b059",
   "metadata": {},
   "outputs": [],
   "source": [
    "corpus = []\n",
    "for i in range(0, len(message)):\n",
    "    review = re.sub('[^a-zA-Z]', ' ', message['text'][i])\n",
    "    review = review.lower()\n",
    "    review = review.split()\n",
    "    review = [stemmer.stem(word) for word in review if not word in set(stopwords.words('english'))]\n",
    "    review = ' '.join(review)\n",
    "    corpus.append(review)"
   ]
  },
  {
   "cell_type": "code",
   "execution_count": 5,
   "id": "e955c0a8",
   "metadata": {},
   "outputs": [],
   "source": [
    "from sklearn.feature_extraction.text import CountVectorizer\n",
    "cv = CountVectorizer(max_features=100, binary = True)"
   ]
  },
  {
   "cell_type": "code",
   "execution_count": 6,
   "id": "c12f850b",
   "metadata": {},
   "outputs": [],
   "source": [
    "X = cv.fit_transform(corpus).toarray()"
   ]
  },
  {
   "cell_type": "code",
   "execution_count": null,
   "id": "88eb6e44",
   "metadata": {},
   "outputs": [],
   "source": []
  },
  {
   "cell_type": "code",
   "execution_count": 7,
   "id": "95dc0b7a",
   "metadata": {},
   "outputs": [
    {
     "data": {
      "text/plain": [
       "{'go': 22,\n",
       " 'great': 25,\n",
       " 'got': 24,\n",
       " 'wat': 90,\n",
       " 'ok': 56,\n",
       " 'free': 18,\n",
       " 'win': 94,\n",
       " 'text': 77,\n",
       " 'txt': 85,\n",
       " 'say': 67,\n",
       " 'alreadi': 0,\n",
       " 'think': 80,\n",
       " 'hey': 28,\n",
       " 'week': 92,\n",
       " 'back': 3,\n",
       " 'like': 38,\n",
       " 'still': 73,\n",
       " 'send': 69,\n",
       " 'even': 15,\n",
       " 'friend': 19,\n",
       " 'prize': 62,\n",
       " 'claim': 7,\n",
       " 'call': 4,\n",
       " 'mobil': 47,\n",
       " 'co': 8,\n",
       " 'home': 30,\n",
       " 'want': 89,\n",
       " 'today': 82,\n",
       " 'cash': 6,\n",
       " 'day': 12,\n",
       " 'repli': 64,\n",
       " 'www': 96,\n",
       " 'right': 65,\n",
       " 'thank': 78,\n",
       " 'take': 75,\n",
       " 'time': 81,\n",
       " 'use': 87,\n",
       " 'messag': 44,\n",
       " 'oh': 55,\n",
       " 'ye': 97,\n",
       " 'make': 42,\n",
       " 'way': 91,\n",
       " 'feel': 16,\n",
       " 'dont': 14,\n",
       " 'miss': 46,\n",
       " 'ur': 86,\n",
       " 'tri': 84,\n",
       " 'da': 11,\n",
       " 'lor': 39,\n",
       " 'meet': 43,\n",
       " 'realli': 63,\n",
       " 'get': 20,\n",
       " 'know': 33,\n",
       " 'love': 40,\n",
       " 'let': 37,\n",
       " 'work': 95,\n",
       " 'wait': 88,\n",
       " 'yeah': 98,\n",
       " 'tell': 76,\n",
       " 'pleas': 61,\n",
       " 'msg': 49,\n",
       " 'see': 68,\n",
       " 'pl': 60,\n",
       " 'need': 51,\n",
       " 'tomorrow': 83,\n",
       " 'hope': 31,\n",
       " 'well': 93,\n",
       " 'lt': 41,\n",
       " 'gt': 26,\n",
       " 'ask': 1,\n",
       " 'morn': 48,\n",
       " 'happi': 27,\n",
       " 'sorri': 72,\n",
       " 'give': 21,\n",
       " 'new': 52,\n",
       " 'find': 17,\n",
       " 'year': 99,\n",
       " 'later': 35,\n",
       " 'pick': 59,\n",
       " 'good': 23,\n",
       " 'come': 9,\n",
       " 'said': 66,\n",
       " 'hi': 29,\n",
       " 'babe': 2,\n",
       " 'im': 32,\n",
       " 'much': 50,\n",
       " 'stop': 74,\n",
       " 'one': 57,\n",
       " 'night': 53,\n",
       " 'servic': 70,\n",
       " 'dear': 13,\n",
       " 'thing': 79,\n",
       " 'contact': 10,\n",
       " 'last': 34,\n",
       " 'min': 45,\n",
       " 'number': 54,\n",
       " 'leav': 36,\n",
       " 'sleep': 71,\n",
       " 'care': 5,\n",
       " 'phone': 58}"
      ]
     },
     "execution_count": 7,
     "metadata": {},
     "output_type": "execute_result"
    }
   ],
   "source": [
    "cv.vocabulary_"
   ]
  },
  {
   "cell_type": "code",
   "execution_count": 9,
   "id": "bb6dafc3",
   "metadata": {},
   "outputs": [],
   "source": [
    "cv=CountVectorizer(max_features=100,binary=True,ngram_range=(2,3))\n",
    "X=cv.fit_transform(corpus).toarray()"
   ]
  },
  {
   "cell_type": "code",
   "execution_count": 11,
   "id": "9a07a647",
   "metadata": {},
   "outputs": [
    {
     "data": {
      "text/plain": [
       "{'free entri': 33,\n",
       " 'claim call': 18,\n",
       " 'call claim': 4,\n",
       " 'free call': 32,\n",
       " 'chanc win': 17,\n",
       " 'txt word': 90,\n",
       " 'let know': 54,\n",
       " 'go home': 36,\n",
       " 'pleas call': 69,\n",
       " 'lt gt': 60,\n",
       " 'want go': 97,\n",
       " 'like lt': 55,\n",
       " 'like lt gt': 56,\n",
       " 'sorri call': 82,\n",
       " 'call later': 12,\n",
       " 'sorri call later': 83,\n",
       " 'ur award': 91,\n",
       " 'call custom': 5,\n",
       " 'custom servic': 25,\n",
       " 'cash prize': 16,\n",
       " 'call custom servic': 6,\n",
       " 'tri contact': 88,\n",
       " 'draw show': 29,\n",
       " 'show prize': 80,\n",
       " 'prize guarante': 74,\n",
       " 'guarante call': 43,\n",
       " 'valid hr': 95,\n",
       " 'draw show prize': 30,\n",
       " 'show prize guarante': 81,\n",
       " 'prize guarante call': 75,\n",
       " 'select receiv': 77,\n",
       " 'privat account': 71,\n",
       " 'account statement': 0,\n",
       " 'call identifi': 7,\n",
       " 'identifi code': 48,\n",
       " 'code expir': 22,\n",
       " 'privat account statement': 72,\n",
       " 'account statement show': 1,\n",
       " 'call identifi code': 8,\n",
       " 'identifi code expir': 49,\n",
       " 'urgent mobil': 94,\n",
       " 'call landlin': 11,\n",
       " 'wat time': 98,\n",
       " 'ur mob': 93,\n",
       " 'new year': 64,\n",
       " 'send stop': 79,\n",
       " 'get back': 35,\n",
       " 'co uk': 21,\n",
       " 'nice day': 65,\n",
       " 'lt decim': 58,\n",
       " 'decim gt': 27,\n",
       " 'lt decim gt': 59,\n",
       " 'good morn': 37,\n",
       " 'ur friend': 92,\n",
       " 'good night': 38,\n",
       " 'repli call': 76,\n",
       " 'po box': 70,\n",
       " 'last night': 53,\n",
       " 'pick phone': 67,\n",
       " 'pl send': 68,\n",
       " 'send messag': 78,\n",
       " 'great day': 39,\n",
       " 'suit land': 84,\n",
       " 'land row': 52,\n",
       " 'suit land row': 85,\n",
       " 'take care': 86,\n",
       " 'call mobileupd': 13,\n",
       " 'call optout': 14,\n",
       " 'gt min': 42,\n",
       " 'lt gt min': 61,\n",
       " 'txt stop': 89,\n",
       " 'date servic': 26,\n",
       " 'call land': 9,\n",
       " 'land line': 50,\n",
       " 'line claim': 57,\n",
       " 'claim valid': 19,\n",
       " 'guarante call land': 44,\n",
       " 'call land line': 10,\n",
       " 'land line claim': 51,\n",
       " 'claim valid hr': 20,\n",
       " 'gt lt': 40,\n",
       " 'gt lt gt': 41,\n",
       " 'hope good': 47,\n",
       " 'free text': 34,\n",
       " 'prize claim': 73,\n",
       " 'nd attempt': 63,\n",
       " 'attempt contact': 2,\n",
       " 'ok lor': 66,\n",
       " 'want come': 96,\n",
       " 'everi week': 31,\n",
       " 'come home': 24,\n",
       " 'happi new': 45,\n",
       " 'happi new year': 46,\n",
       " 'nation rate': 62,\n",
       " 'week txt': 99,\n",
       " 'tell ur': 87,\n",
       " 'await collect': 3,\n",
       " 'dont know': 28,\n",
       " 'come back': 23,\n",
       " 'call per': 15}"
      ]
     },
     "execution_count": 11,
     "metadata": {},
     "output_type": "execute_result"
    }
   ],
   "source": [
    "cv.vocabulary_"
   ]
  },
  {
   "cell_type": "code",
   "execution_count": 12,
   "id": "c0c58e3a",
   "metadata": {},
   "outputs": [
    {
     "data": {
      "text/plain": [
       "array([[0, 0, 0, ..., 0, 0, 0],\n",
       "       [0, 0, 0, ..., 0, 0, 0],\n",
       "       [0, 0, 0, ..., 0, 0, 0],\n",
       "       ...,\n",
       "       [0, 0, 0, ..., 0, 0, 0],\n",
       "       [0, 0, 0, ..., 0, 0, 0],\n",
       "       [0, 0, 0, ..., 0, 0, 0]], dtype=int64)"
      ]
     },
     "execution_count": 12,
     "metadata": {},
     "output_type": "execute_result"
    }
   ],
   "source": [
    "X"
   ]
  },
  {
   "cell_type": "code",
   "execution_count": null,
   "id": "e309696a",
   "metadata": {},
   "outputs": [],
   "source": []
  }
 ],
 "metadata": {
  "kernelspec": {
   "display_name": "Python 3",
   "language": "python",
   "name": "python3"
  },
  "language_info": {
   "codemirror_mode": {
    "name": "ipython",
    "version": 3
   },
   "file_extension": ".py",
   "mimetype": "text/x-python",
   "name": "python",
   "nbconvert_exporter": "python",
   "pygments_lexer": "ipython3",
   "version": "3.12.1"
  }
 },
 "nbformat": 4,
 "nbformat_minor": 5
}
