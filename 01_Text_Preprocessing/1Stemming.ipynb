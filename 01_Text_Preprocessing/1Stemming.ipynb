{
 "cells": [
  {
   "cell_type": "markdown",
   "id": "1e52b417",
   "metadata": {},
   "source": [
    "## Stemming\n",
    "\n",
    "Stemming is the process of reducing a word to its word stem that affixes to suffixes and prefixes or to the roots of words known as a lemma. Stemming is important in natural language understanding (NLU) and natural language processing (NLP).\n"
   ]
  },
  {
   "cell_type": "code",
   "execution_count": 1,
   "id": "68eaa435",
   "metadata": {},
   "outputs": [],
   "source": [
    "## Classification Problem\n",
    "## Comments of product is a positive review or negative review\n",
    "## Reviews----> eating, eat,eaten [going,gone,goes]--->go\n",
    "\n",
    "words=[\"eating\",\"eats\",\"eaten\",\"writing\",\"writes\",\"programming\",\"programs\",\"history\",\"finally\",\"finalized\"]"
   ]
  },
  {
   "cell_type": "markdown",
   "id": "81ebcb55",
   "metadata": {},
   "source": [
    "## Porterstemmer\n"
   ]
  },
  {
   "cell_type": "code",
   "execution_count": 2,
   "id": "7a5a9ce3",
   "metadata": {},
   "outputs": [],
   "source": [
    "from nltk.stem import PorterStemmer"
   ]
  },
  {
   "cell_type": "code",
   "execution_count": 3,
   "id": "a9251104",
   "metadata": {},
   "outputs": [],
   "source": [
    "stemming = PorterStemmer()"
   ]
  },
  {
   "cell_type": "code",
   "execution_count": 5,
   "id": "9a7f39d7",
   "metadata": {},
   "outputs": [
    {
     "name": "stdout",
     "output_type": "stream",
     "text": [
      "eating----->eat\n",
      "eats----->eat\n",
      "eaten----->eaten\n",
      "writing----->write\n",
      "writes----->write\n",
      "programming----->program\n",
      "programs----->program\n",
      "history----->histori\n",
      "finally----->final\n",
      "finalized----->final\n"
     ]
    }
   ],
   "source": [
    "for word in words:\n",
    "    print(word+\"----->\"+stemming.stem(word))"
   ]
  },
  {
   "cell_type": "code",
   "execution_count": 6,
   "id": "82e5a660",
   "metadata": {},
   "outputs": [
    {
     "data": {
      "text/plain": [
       "'cogratul'"
      ]
     },
     "execution_count": 6,
     "metadata": {},
     "output_type": "execute_result"
    }
   ],
   "source": [
    "stemming.stem(\"cogratulation\")"
   ]
  },
  {
   "cell_type": "markdown",
   "id": "193d4e44",
   "metadata": {},
   "source": [
    "so it sometime stem as change the meaning of the word\n"
   ]
  },
  {
   "cell_type": "code",
   "execution_count": 7,
   "id": "674b8e4b",
   "metadata": {},
   "outputs": [
    {
     "data": {
      "text/plain": [
       "'go'"
      ]
     },
     "execution_count": 7,
     "metadata": {},
     "output_type": "execute_result"
    }
   ],
   "source": [
    "stemming.stem(\"going\")"
   ]
  },
  {
   "cell_type": "markdown",
   "id": "7558e6b6",
   "metadata": {},
   "source": [
    "### RegexpStemmer class\n",
    "\n",
    "NLTK has RegexpStemmer class with the help of which we can easily implement Regular Expression Stemmer algorithms. It basically takes a single regular expression and removes any prefix or suffix that matches the expression. Let us see an example\n"
   ]
  },
  {
   "cell_type": "code",
   "execution_count": 8,
   "id": "469089a8",
   "metadata": {},
   "outputs": [],
   "source": [
    "from nltk.stem import  RegexpStemmer"
   ]
  },
  {
   "cell_type": "code",
   "execution_count": 15,
   "id": "2c2966ce",
   "metadata": {},
   "outputs": [],
   "source": [
    "reg_stemmer =RegexpStemmer('ing$|s$|e$|able$', min=4)"
   ]
  },
  {
   "cell_type": "code",
   "execution_count": 16,
   "id": "68fa95ad",
   "metadata": {},
   "outputs": [
    {
     "data": {
      "text/plain": [
       "'eat'"
      ]
     },
     "execution_count": 16,
     "metadata": {},
     "output_type": "execute_result"
    }
   ],
   "source": [
    "reg_stemmer.stem(\"eating\")"
   ]
  },
  {
   "cell_type": "code",
   "execution_count": 18,
   "id": "127e4016",
   "metadata": {},
   "outputs": [
    {
     "data": {
      "text/plain": [
       "'ineat'"
      ]
     },
     "execution_count": 18,
     "metadata": {},
     "output_type": "execute_result"
    }
   ],
   "source": [
    "reg_stemmer.stem(\"ineating\")"
   ]
  },
  {
   "cell_type": "markdown",
   "id": "6cd87906",
   "metadata": {},
   "source": [
    "### Snowball Stemmer\n",
    "\n",
    "It is a stemming algorithm which is also known as the Porter2 stemming algorithm as it is a better version of the Porter Stemmer since some issues of it were fixed in this stemmer.\n"
   ]
  },
  {
   "cell_type": "code",
   "execution_count": 19,
   "id": "ac3ef4a1",
   "metadata": {},
   "outputs": [],
   "source": [
    "from nltk.stem import SnowballStemmer\n"
   ]
  },
  {
   "cell_type": "code",
   "execution_count": 21,
   "id": "745ec239",
   "metadata": {},
   "outputs": [],
   "source": [
    "snow = SnowballStemmer('english')"
   ]
  },
  {
   "cell_type": "code",
   "execution_count": 22,
   "id": "20a7a941",
   "metadata": {},
   "outputs": [
    {
     "name": "stdout",
     "output_type": "stream",
     "text": [
      "eating-------->eat\n",
      "eats-------->eat\n",
      "eaten-------->eaten\n",
      "writing-------->write\n",
      "writes-------->write\n",
      "programming-------->program\n",
      "programs-------->program\n",
      "history-------->histori\n",
      "finally-------->final\n",
      "finalized-------->final\n"
     ]
    }
   ],
   "source": [
    "for word in words:\n",
    "    print(word + \"-------->\"+ snow.stem(word))"
   ]
  },
  {
   "cell_type": "code",
   "execution_count": 24,
   "id": "2c591665",
   "metadata": {},
   "outputs": [
    {
     "data": {
      "text/plain": [
       "('fairli', 'sportingli')"
      ]
     },
     "execution_count": 24,
     "metadata": {},
     "output_type": "execute_result"
    }
   ],
   "source": [
    "stemming.stem(\"fairly\"),stemming.stem(\"sportingly\")"
   ]
  },
  {
   "cell_type": "code",
   "execution_count": 25,
   "id": "4234ea5b",
   "metadata": {},
   "outputs": [
    {
     "data": {
      "text/plain": [
       "('fair', 'sport')"
      ]
     },
     "execution_count": 25,
     "metadata": {},
     "output_type": "execute_result"
    }
   ],
   "source": [
    "snow.stem(\"fairly\"),snow.stem(\"sportingly\")"
   ]
  },
  {
   "cell_type": "code",
   "execution_count": 27,
   "id": "a743863e",
   "metadata": {},
   "outputs": [
    {
     "data": {
      "text/plain": [
       "('goe', 'goe', 'goe')"
      ]
     },
     "execution_count": 27,
     "metadata": {},
     "output_type": "execute_result"
    }
   ],
   "source": [
    "snow.stem(\"goes\"), stemming.stem(\"goes\"), reg_stemmer.stem(\"goes\")"
   ]
  },
  {
   "cell_type": "markdown",
   "id": "7452977f",
   "metadata": {},
   "source": [
    "As we can see the some of the minor problem are still there in all three stemming techaniques...\n"
   ]
  },
  {
   "cell_type": "markdown",
   "id": "a70164ef",
   "metadata": {},
   "source": [
    "So we use Lemitization for remove this problem\n"
   ]
  },
  {
   "cell_type": "code",
   "execution_count": null,
   "id": "ba633713",
   "metadata": {},
   "outputs": [],
   "source": []
  }
 ],
 "metadata": {
  "kernelspec": {
   "display_name": "Python 3",
   "language": "python",
   "name": "python3"
  },
  "language_info": {
   "codemirror_mode": {
    "name": "ipython",
    "version": 3
   },
   "file_extension": ".py",
   "mimetype": "text/x-python",
   "name": "python",
   "nbconvert_exporter": "python",
   "pygments_lexer": "ipython3",
   "version": "3.11.11"
  }
 },
 "nbformat": 4,
 "nbformat_minor": 5
}
