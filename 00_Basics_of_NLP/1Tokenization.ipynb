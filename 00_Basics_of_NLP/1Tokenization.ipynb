{
 "cells": [
  {
   "cell_type": "markdown",
   "id": "0135e3fc",
   "metadata": {},
   "source": [
    "## <span style=\"color: #B66A50;\">Tokenization: A Foundational Step in NLP </span>\n",
    "\n",
    "Tokenization, a basic yet crucial stage in Natural Language Processing (NLP) tasks, involves breaking down a paragraph of text into smaller units such as sentences or individual words (tokens). This fundamental process is often performed using popular NLP libraries like **NLTK (Natural Language Toolkit)**.\n"
   ]
  },
  {
   "cell_type": "code",
   "execution_count": 20,
   "id": "e5330c2d",
   "metadata": {},
   "outputs": [
    {
     "name": "stdout",
     "output_type": "stream",
     "text": [
      "Found existing installation: nltk 3.9.1\n",
      "Uninstalling nltk-3.9.1:\n",
      "  Successfully uninstalled nltk-3.9.1\n",
      "Note: you may need to restart the kernel to use updated packages.\n"
     ]
    }
   ],
   "source": [
    "%pip uninstall nltk -y"
   ]
  },
  {
   "cell_type": "code",
   "execution_count": 21,
   "id": "61318ef6",
   "metadata": {},
   "outputs": [
    {
     "name": "stdout",
     "output_type": "stream",
     "text": [
      "Collecting nltk\n",
      "  Using cached nltk-3.9.1-py3-none-any.whl.metadata (2.9 kB)\n",
      "Requirement already satisfied: click in c:\\users\\dell\\appdata\\local\\programs\\python\\python312\\lib\\site-packages (from nltk) (8.1.7)\n",
      "Requirement already satisfied: joblib in c:\\users\\dell\\appdata\\local\\programs\\python\\python312\\lib\\site-packages (from nltk) (1.4.2)\n",
      "Requirement already satisfied: regex>=2021.8.3 in c:\\users\\dell\\appdata\\local\\programs\\python\\python312\\lib\\site-packages (from nltk) (2024.11.6)\n",
      "Requirement already satisfied: tqdm in c:\\users\\dell\\appdata\\local\\programs\\python\\python312\\lib\\site-packages (from nltk) (4.66.1)\n",
      "Requirement already satisfied: colorama in c:\\users\\dell\\appdata\\local\\programs\\python\\python312\\lib\\site-packages (from click->nltk) (0.4.6)\n",
      "Using cached nltk-3.9.1-py3-none-any.whl (1.5 MB)\n",
      "Installing collected packages: nltk\n",
      "Successfully installed nltk-3.9.1\n",
      "Note: you may need to restart the kernel to use updated packages.\n"
     ]
    }
   ],
   "source": [
    "%pip install nltk"
   ]
  },
  {
   "cell_type": "code",
   "execution_count": 3,
   "id": "b87e6387",
   "metadata": {},
   "outputs": [],
   "source": [
    "corpus = \"\"\" My name is sourav kumar. \n",
    "This is the notebook to understand Basics of Tokenization.\n",
    "that help me to maintain NLP repo.\n",
    "\"\"\""
   ]
  },
  {
   "cell_type": "code",
   "execution_count": 4,
   "id": "5a1333d0",
   "metadata": {},
   "outputs": [
    {
     "name": "stdout",
     "output_type": "stream",
     "text": [
      " My name is sourav kumar. \n",
      "This is the notebook to understand Basics of Tokenization.\n",
      "that help me to maintain NLP repo.\n",
      "\n"
     ]
    }
   ],
   "source": [
    "print(corpus)"
   ]
  },
  {
   "cell_type": "code",
   "execution_count": 1,
   "id": "dc71f41e",
   "metadata": {},
   "outputs": [
    {
     "name": "stderr",
     "output_type": "stream",
     "text": [
      "[nltk_data] Downloading package punkt to\n",
      "[nltk_data]     C:\\Users\\Dell\\AppData\\Roaming\\nltk_data...\n",
      "[nltk_data]   Package punkt is already up-to-date!\n"
     ]
    },
    {
     "data": {
      "text/plain": [
       "True"
      ]
     },
     "execution_count": 1,
     "metadata": {},
     "output_type": "execute_result"
    }
   ],
   "source": [
    "# Ensure nltk is not partially initialized by re-importing it\n",
    "import importlib\n",
    "import nltk\n",
    "nltk = importlib.reload(nltk)\n",
    "nltk.download('punkt')"
   ]
  },
  {
   "cell_type": "code",
   "execution_count": 5,
   "id": "310e2ddb",
   "metadata": {},
   "outputs": [
    {
     "name": "stderr",
     "output_type": "stream",
     "text": [
      "[nltk_data] Downloading package punkt to\n",
      "[nltk_data]     C:\\Users\\Dell\\AppData\\Roaming\\nltk_data...\n",
      "[nltk_data]   Package punkt is already up-to-date!\n"
     ]
    },
    {
     "data": {
      "text/plain": [
       "list"
      ]
     },
     "execution_count": 5,
     "metadata": {},
     "output_type": "execute_result"
    }
   ],
   "source": [
    "#tokenization into sentences.\n",
    "from nltk.tokenize import sent_tokenize\n",
    "document = sent_tokenize(corpus)\n",
    "type(document)"
   ]
  },
  {
   "cell_type": "code",
   "execution_count": 6,
   "id": "bb2c2968",
   "metadata": {},
   "outputs": [
    {
     "name": "stdout",
     "output_type": "stream",
     "text": [
      " My name is sourav kumar.\n",
      "This is the notebook to understand Basics of Tokenization.\n",
      "that help me to maintain NLP repo.\n"
     ]
    }
   ],
   "source": [
    "for sentence in document:\n",
    "    print(sentence)"
   ]
  },
  {
   "cell_type": "code",
   "execution_count": 8,
   "id": "cc822fbd",
   "metadata": {},
   "outputs": [
    {
     "data": {
      "text/plain": [
       "list"
      ]
     },
     "execution_count": 8,
     "metadata": {},
     "output_type": "execute_result"
    }
   ],
   "source": [
    "#word tokenize\n",
    "from nltk.tokenize import word_tokenize\n",
    "sent = word_tokenize(corpus)\n",
    "type(sent)"
   ]
  },
  {
   "cell_type": "code",
   "execution_count": 9,
   "id": "93dbea87",
   "metadata": {},
   "outputs": [
    {
     "name": "stdout",
     "output_type": "stream",
     "text": [
      "My\n",
      "name\n",
      "is\n",
      "sourav\n",
      "kumar\n",
      ".\n",
      "This\n",
      "is\n",
      "the\n",
      "notebook\n",
      "to\n",
      "understand\n",
      "Basics\n",
      "of\n",
      "Tokenization\n",
      ".\n",
      "that\n",
      "help\n",
      "me\n",
      "to\n",
      "maintain\n",
      "NLP\n",
      "repo\n",
      ".\n"
     ]
    }
   ],
   "source": [
    "for word in sent:\n",
    "    print(word)"
   ]
  },
  {
   "cell_type": "code",
   "execution_count": 10,
   "id": "1b6c43b1",
   "metadata": {},
   "outputs": [
    {
     "name": "stdout",
     "output_type": "stream",
     "text": [
      "['My', 'name', 'is', 'sourav', 'kumar', '.']\n",
      "['This', 'is', 'the', 'notebook', 'to', 'understand', 'Basics', 'of', 'Tokenization', '.']\n",
      "['that', 'help', 'me', 'to', 'maintain', 'NLP', 'repo', '.']\n"
     ]
    }
   ],
   "source": [
    "from nltk.tokenize import word_tokenize\n",
    "for sentence in document:\n",
    "    print(word_tokenize(sentence))"
   ]
  },
  {
   "cell_type": "code",
   "execution_count": 16,
   "id": "25abddc8",
   "metadata": {},
   "outputs": [
    {
     "data": {
      "text/plain": [
       "['My',\n",
       " 'name',\n",
       " 'is',\n",
       " 'sourav',\n",
       " 'kumar',\n",
       " '.',\n",
       " 'This',\n",
       " 'is',\n",
       " 'the',\n",
       " 'notebook',\n",
       " 'to',\n",
       " 'understand',\n",
       " 'Basics',\n",
       " 'of',\n",
       " 'Tokenization',\n",
       " '.',\n",
       " 'that',\n",
       " 'help',\n",
       " 'me',\n",
       " 'to',\n",
       " 'maintain',\n",
       " 'NLP',\n",
       " 'repo',\n",
       " '.']"
      ]
     },
     "execution_count": 16,
     "metadata": {},
     "output_type": "execute_result"
    }
   ],
   "source": [
    "from nltk.tokenize import wordpunct_tokenize\n",
    "wordpunct_tokenize(corpus)\n"
   ]
  },
  {
   "cell_type": "code",
   "execution_count": 18,
   "id": "7825ebad",
   "metadata": {},
   "outputs": [
    {
     "data": {
      "text/plain": [
       "['My',\n",
       " 'name',\n",
       " 'is',\n",
       " 'sourav',\n",
       " 'kumar.',\n",
       " 'This',\n",
       " 'is',\n",
       " 'the',\n",
       " 'notebook',\n",
       " 'to',\n",
       " 'understand',\n",
       " 'Basics',\n",
       " 'of',\n",
       " 'Tokenization.',\n",
       " 'that',\n",
       " 'help',\n",
       " 'me',\n",
       " 'to',\n",
       " 'maintain',\n",
       " 'NLP',\n",
       " 'repo',\n",
       " '.']"
      ]
     },
     "execution_count": 18,
     "metadata": {},
     "output_type": "execute_result"
    }
   ],
   "source": [
    "from nltk.tokenize import TreebankWordTokenizer\n",
    "tokenizer = TreebankWordTokenizer()\n",
    "tokenizer.tokenize(corpus)"
   ]
  },
  {
   "cell_type": "code",
   "execution_count": 19,
   "id": "8363767f",
   "metadata": {},
   "outputs": [
    {
     "data": {
      "text/plain": [
       "['My',\n",
       " 'name',\n",
       " 'is',\n",
       " 'sourav',\n",
       " 'kumar.',\n",
       " 'This',\n",
       " 'is',\n",
       " 'the',\n",
       " 'notebook',\n",
       " 'to',\n",
       " 'understand',\n",
       " 'Basics',\n",
       " 'of',\n",
       " 'Tokenization.',\n",
       " 'that',\n",
       " 'help',\n",
       " 'me',\n",
       " 'to',\n",
       " 'maintain',\n",
       " 'NLP',\n",
       " 'repo.']"
      ]
     },
     "execution_count": 19,
     "metadata": {},
     "output_type": "execute_result"
    }
   ],
   "source": [
    "from nltk.tokenize import regexp_tokenize\n",
    "regexp_tokenize(corpus, pattern=r'\\s+', gaps=True)"
   ]
  },
  {
   "cell_type": "code",
   "execution_count": null,
   "id": "81c217a3",
   "metadata": {},
   "outputs": [],
   "source": []
  },
  {
   "cell_type": "markdown",
   "id": "cabfd0b9",
   "metadata": {},
   "source": [
    "# Summary of tokenization use cases:\n",
    "\n",
    "1. sent_tokenize: Used to break a paragraph into sentences.\n",
    "2. word_tokenize: Used to break text into individual words.\n",
    "3. wordpunct_tokenize: Used to tokenize text into words and punctuation separately.\n",
    "4. TreebankWordTokenizer: Used for more sophisticated word tokenization, handling contractions and punctuation.\n",
    "5. regexp_tokenize: Used to tokenize text based on a custom regular expression pattern\n"
   ]
  },
  {
   "cell_type": "code",
   "execution_count": null,
   "id": "27ab3a62",
   "metadata": {},
   "outputs": [],
   "source": []
  }
 ],
 "metadata": {
  "kernelspec": {
   "display_name": "Python 3",
   "language": "python",
   "name": "python3"
  },
  "language_info": {
   "codemirror_mode": {
    "name": "ipython",
    "version": 3
   },
   "file_extension": ".py",
   "mimetype": "text/x-python",
   "name": "python",
   "nbconvert_exporter": "python",
   "pygments_lexer": "ipython3",
   "version": "3.12.1"
  }
 },
 "nbformat": 4,
 "nbformat_minor": 5
}
