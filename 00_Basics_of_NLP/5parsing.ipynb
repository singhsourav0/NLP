{
 "cells": [
  {
   "cell_type": "markdown",
   "id": "8bcb2280",
   "metadata": {},
   "source": [
    "Syntax Parsing also called deep parsing or constituency parsing.\n",
    "\n",
    "Builds a complete syntactic tree of the sentence based on grammar rules.\n",
    "\n",
    "Shows hierarchical structure of all parts of a sentence.\n"
   ]
  },
  {
   "cell_type": "code",
   "execution_count": 36,
   "id": "c2975e4e",
   "metadata": {},
   "outputs": [],
   "source": [
    "import nltk\n",
    "from nltk import CFG"
   ]
  },
  {
   "cell_type": "code",
   "execution_count": 37,
   "id": "740b76aa",
   "metadata": {},
   "outputs": [
    {
     "name": "stderr",
     "output_type": "stream",
     "text": [
      "[nltk_data] Downloading package punkt to C:\\Users\\Dell/nltk_data...\n",
      "[nltk_data]   Package punkt is already up-to-date!\n"
     ]
    },
    {
     "data": {
      "text/plain": [
       "True"
      ]
     },
     "execution_count": 37,
     "metadata": {},
     "output_type": "execute_result"
    }
   ],
   "source": [
    "nltk.download('punkt')"
   ]
  },
  {
   "cell_type": "code",
   "execution_count": 38,
   "id": "2d5e2379",
   "metadata": {},
   "outputs": [],
   "source": [
    "grammar = CFG.fromstring(\"\"\"\n",
    "  S -> NP VP\n",
    "  NP -> DT NN | DT JJ NN\n",
    "  VP -> VB NP\n",
    "  DT -> 'the' | 'a'\n",
    "  JJ -> 'quick' | 'lazy'\n",
    "  NN -> 'fox' | 'dog'\n",
    "  VB -> 'chased' | 'saw'\n",
    "\"\"\")\n"
   ]
  },
  {
   "cell_type": "code",
   "execution_count": 39,
   "id": "a23649bd",
   "metadata": {},
   "outputs": [],
   "source": [
    "#craete a parser\n",
    "parser = nltk.ChartParser(grammar)"
   ]
  },
  {
   "cell_type": "code",
   "execution_count": 40,
   "id": "4526746c",
   "metadata": {},
   "outputs": [],
   "source": [
    "sentences  = \" quick fox chased a lazy dog\""
   ]
  },
  {
   "cell_type": "code",
   "execution_count": 41,
   "id": "39087ff2",
   "metadata": {},
   "outputs": [],
   "source": [
    "token = nltk.word_tokenize(sentences)"
   ]
  },
  {
   "cell_type": "code",
   "execution_count": 49,
   "id": "d926849a",
   "metadata": {},
   "outputs": [],
   "source": [
    "# Parse and display\n",
    "for tree in parser.parse(token):\n",
    "    # tree.pretty_print()  \n",
    "    tree.draw()  "
   ]
  },
  {
   "cell_type": "code",
   "execution_count": null,
   "id": "9977f55e",
   "metadata": {},
   "outputs": [],
   "source": []
  }
 ],
 "metadata": {
  "kernelspec": {
   "display_name": "Python 3",
   "language": "python",
   "name": "python3"
  },
  "language_info": {
   "codemirror_mode": {
    "name": "ipython",
    "version": 3
   },
   "file_extension": ".py",
   "mimetype": "text/x-python",
   "name": "python",
   "nbconvert_exporter": "python",
   "pygments_lexer": "ipython3",
   "version": "3.11.11"
  }
 },
 "nbformat": 4,
 "nbformat_minor": 5
}
