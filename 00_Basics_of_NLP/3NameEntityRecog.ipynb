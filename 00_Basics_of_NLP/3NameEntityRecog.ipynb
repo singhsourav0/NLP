{
 "cells": [
  {
   "cell_type": "markdown",
   "id": "efd19d61",
   "metadata": {},
   "source": [
    "# Name Entity Recognition\n"
   ]
  },
  {
   "cell_type": "markdown",
   "id": "664c986c",
   "metadata": {},
   "source": []
  },
  {
   "cell_type": "code",
   "execution_count": 1,
   "id": "8858a710",
   "metadata": {},
   "outputs": [
    {
     "data": {
      "text/plain": [
       "'\\nPerson Eg: Krish C Naik\\nPlace Or Location Eg: India\\nDate Eg: September,24-09-1989\\nTime  Eg: 4:30pm\\nMoney Eg: 1 million dollar\\nOrganization Eg: iNeuron Private Limited\\nPercent Eg: 20%, twenty percent\\n'"
      ]
     },
     "execution_count": 1,
     "metadata": {},
     "output_type": "execute_result"
    }
   ],
   "source": [
    "sentence=\"The Eiffel Tower was built from 1887 to 1889 by French engineer Gustave Eiffel, whose company specialized in building metal frameworks and structures.\"\n",
    "\"\"\"\n",
    "Person Eg: Krish C Naik\n",
    "Place Or Location Eg: India\n",
    "Date Eg: September,24-09-1989\n",
    "Time  Eg: 4:30pm\n",
    "Money Eg: 1 million dollar\n",
    "Organization Eg: iNeuron Private Limited\n",
    "Percent Eg: 20%, twenty percent\n",
    "\"\"\""
   ]
  },
  {
   "cell_type": "code",
   "execution_count": 3,
   "id": "e3331df2",
   "metadata": {},
   "outputs": [],
   "source": [
    "sentence=\"The Eiffel Tower was built from 1887 to 1889 by Gustave Eiffel, whose company specialized in building metal frameworks and structures.\""
   ]
  },
  {
   "cell_type": "code",
   "execution_count": 9,
   "id": "9090423b",
   "metadata": {},
   "outputs": [],
   "source": [
    "import nltk\n",
    "word=nltk.word_tokenize(sentence)"
   ]
  },
  {
   "cell_type": "code",
   "execution_count": 6,
   "id": "50b3cb95",
   "metadata": {},
   "outputs": [
    {
     "name": "stderr",
     "output_type": "stream",
     "text": [
      "[nltk_data] Downloading package maxent_ne_chunker to\n",
      "[nltk_data]     C:\\Users\\Dell/nltk_data...\n",
      "[nltk_data]   Unzipping chunkers\\maxent_ne_chunker.zip.\n"
     ]
    },
    {
     "data": {
      "text/plain": [
       "True"
      ]
     },
     "execution_count": 6,
     "metadata": {},
     "output_type": "execute_result"
    }
   ],
   "source": [
    "nltk.download('maxent_ne_chunker')"
   ]
  },
  {
   "cell_type": "code",
   "execution_count": 7,
   "id": "159494fa",
   "metadata": {},
   "outputs": [
    {
     "name": "stderr",
     "output_type": "stream",
     "text": [
      "[nltk_data] Downloading package words to C:\\Users\\Dell/nltk_data...\n",
      "[nltk_data]   Unzipping corpora\\words.zip.\n"
     ]
    },
    {
     "data": {
      "text/plain": [
       "True"
      ]
     },
     "execution_count": 7,
     "metadata": {},
     "output_type": "execute_result"
    }
   ],
   "source": [
    "nltk.download('words')"
   ]
  },
  {
   "cell_type": "code",
   "execution_count": 10,
   "id": "39118463",
   "metadata": {},
   "outputs": [
    {
     "data": {
      "text/plain": [
       "['The',\n",
       " 'Eiffel',\n",
       " 'Tower',\n",
       " 'was',\n",
       " 'built',\n",
       " 'from',\n",
       " '1887',\n",
       " 'to',\n",
       " '1889',\n",
       " 'by',\n",
       " 'Gustave',\n",
       " 'Eiffel',\n",
       " ',',\n",
       " 'whose',\n",
       " 'company',\n",
       " 'specialized',\n",
       " 'in',\n",
       " 'building',\n",
       " 'metal',\n",
       " 'frameworks',\n",
       " 'and',\n",
       " 'structures',\n",
       " '.']"
      ]
     },
     "execution_count": 10,
     "metadata": {},
     "output_type": "execute_result"
    }
   ],
   "source": [
    "word"
   ]
  },
  {
   "cell_type": "code",
   "execution_count": 13,
   "id": "bdd082ab",
   "metadata": {},
   "outputs": [
    {
     "name": "stdout",
     "output_type": "stream",
     "text": [
      "Collecting spacy\n",
      "  Downloading spacy-3.8.5-cp311-cp311-win_amd64.whl.metadata (28 kB)\n",
      "Collecting spacy-legacy<3.1.0,>=3.0.11 (from spacy)\n",
      "  Downloading spacy_legacy-3.0.12-py2.py3-none-any.whl.metadata (2.8 kB)\n",
      "Collecting spacy-loggers<2.0.0,>=1.0.0 (from spacy)\n",
      "  Downloading spacy_loggers-1.0.5-py3-none-any.whl.metadata (23 kB)\n",
      "Collecting murmurhash<1.1.0,>=0.28.0 (from spacy)\n",
      "  Downloading murmurhash-1.0.12-cp311-cp311-win_amd64.whl.metadata (2.2 kB)\n",
      "Collecting cymem<2.1.0,>=2.0.2 (from spacy)\n",
      "  Downloading cymem-2.0.11-cp311-cp311-win_amd64.whl.metadata (8.8 kB)\n",
      "Collecting preshed<3.1.0,>=3.0.2 (from spacy)\n",
      "  Downloading preshed-3.0.9-cp311-cp311-win_amd64.whl.metadata (2.2 kB)\n",
      "Collecting thinc<8.4.0,>=8.3.4 (from spacy)\n",
      "  Downloading thinc-8.3.6-cp311-cp311-win_amd64.whl.metadata (15 kB)\n",
      "Collecting wasabi<1.2.0,>=0.9.1 (from spacy)\n",
      "  Downloading wasabi-1.1.3-py3-none-any.whl.metadata (28 kB)\n",
      "Collecting srsly<3.0.0,>=2.4.3 (from spacy)\n",
      "  Downloading srsly-2.5.1-cp311-cp311-win_amd64.whl.metadata (20 kB)\n",
      "Collecting catalogue<2.1.0,>=2.0.6 (from spacy)\n",
      "  Downloading catalogue-2.0.10-py3-none-any.whl.metadata (14 kB)\n",
      "Collecting weasel<0.5.0,>=0.1.0 (from spacy)\n",
      "  Downloading weasel-0.4.1-py3-none-any.whl.metadata (4.6 kB)\n",
      "Collecting typer<1.0.0,>=0.3.0 (from spacy)\n",
      "  Using cached typer-0.15.2-py3-none-any.whl.metadata (15 kB)\n",
      "Requirement already satisfied: tqdm<5.0.0,>=4.38.0 in c:\\users\\dell\\python\\project\\mlops\\kidney-disease\\.conda\\lib\\site-packages (from spacy) (4.67.1)\n",
      "Requirement already satisfied: numpy>=1.19.0 in c:\\users\\dell\\python\\project\\mlops\\kidney-disease\\.conda\\lib\\site-packages (from spacy) (2.2.4)\n",
      "Requirement already satisfied: requests<3.0.0,>=2.13.0 in c:\\users\\dell\\python\\project\\mlops\\kidney-disease\\.conda\\lib\\site-packages (from spacy) (2.32.3)\n",
      "Collecting pydantic!=1.8,!=1.8.1,<3.0.0,>=1.7.4 (from spacy)\n",
      "  Using cached pydantic-2.11.3-py3-none-any.whl.metadata (65 kB)\n",
      "Collecting jinja2 (from spacy)\n",
      "  Using cached jinja2-3.1.6-py3-none-any.whl.metadata (2.9 kB)\n",
      "Requirement already satisfied: setuptools in c:\\users\\dell\\python\\project\\mlops\\kidney-disease\\.conda\\lib\\site-packages (from spacy) (59.6.0)\n",
      "Requirement already satisfied: packaging>=20.0 in c:\\users\\dell\\python\\project\\mlops\\kidney-disease\\.conda\\lib\\site-packages (from spacy) (24.2)\n",
      "Collecting langcodes<4.0.0,>=3.2.0 (from spacy)\n",
      "  Downloading langcodes-3.5.0-py3-none-any.whl.metadata (29 kB)\n",
      "Collecting language-data>=1.2 (from langcodes<4.0.0,>=3.2.0->spacy)\n",
      "  Downloading language_data-1.3.0-py3-none-any.whl.metadata (4.3 kB)\n",
      "Collecting annotated-types>=0.6.0 (from pydantic!=1.8,!=1.8.1,<3.0.0,>=1.7.4->spacy)\n",
      "  Using cached annotated_types-0.7.0-py3-none-any.whl.metadata (15 kB)\n",
      "Collecting pydantic-core==2.33.1 (from pydantic!=1.8,!=1.8.1,<3.0.0,>=1.7.4->spacy)\n",
      "  Using cached pydantic_core-2.33.1-cp311-cp311-win_amd64.whl.metadata (6.9 kB)\n",
      "Requirement already satisfied: typing-extensions>=4.12.2 in c:\\users\\dell\\python\\project\\mlops\\kidney-disease\\.conda\\lib\\site-packages (from pydantic!=1.8,!=1.8.1,<3.0.0,>=1.7.4->spacy) (4.12.2)\n",
      "Collecting typing-inspection>=0.4.0 (from pydantic!=1.8,!=1.8.1,<3.0.0,>=1.7.4->spacy)\n",
      "  Using cached typing_inspection-0.4.0-py3-none-any.whl.metadata (2.6 kB)\n",
      "Requirement already satisfied: charset-normalizer<4,>=2 in c:\\users\\dell\\python\\project\\mlops\\kidney-disease\\.conda\\lib\\site-packages (from requests<3.0.0,>=2.13.0->spacy) (3.4.1)\n",
      "Requirement already satisfied: idna<4,>=2.5 in c:\\users\\dell\\python\\project\\mlops\\kidney-disease\\.conda\\lib\\site-packages (from requests<3.0.0,>=2.13.0->spacy) (3.10)\n",
      "Requirement already satisfied: urllib3<3,>=1.21.1 in c:\\users\\dell\\python\\project\\mlops\\kidney-disease\\.conda\\lib\\site-packages (from requests<3.0.0,>=2.13.0->spacy) (2.3.0)\n",
      "Requirement already satisfied: certifi>=2017.4.17 in c:\\users\\dell\\python\\project\\mlops\\kidney-disease\\.conda\\lib\\site-packages (from requests<3.0.0,>=2.13.0->spacy) (2024.12.14)\n",
      "Collecting blis<1.4.0,>=1.3.0 (from thinc<8.4.0,>=8.3.4->spacy)\n",
      "  Downloading blis-1.3.0-cp311-cp311-win_amd64.whl.metadata (7.6 kB)\n",
      "Collecting confection<1.0.0,>=0.0.1 (from thinc<8.4.0,>=8.3.4->spacy)\n",
      "  Downloading confection-0.1.5-py3-none-any.whl.metadata (19 kB)\n",
      "Requirement already satisfied: colorama in c:\\users\\dell\\python\\project\\mlops\\kidney-disease\\.conda\\lib\\site-packages (from tqdm<5.0.0,>=4.38.0->spacy) (0.4.6)\n",
      "Requirement already satisfied: click>=8.0.0 in c:\\users\\dell\\python\\project\\mlops\\kidney-disease\\.conda\\lib\\site-packages (from typer<1.0.0,>=0.3.0->spacy) (8.1.8)\n",
      "Collecting shellingham>=1.3.0 (from typer<1.0.0,>=0.3.0->spacy)\n",
      "  Using cached shellingham-1.5.4-py2.py3-none-any.whl.metadata (3.5 kB)\n",
      "Collecting rich>=10.11.0 (from typer<1.0.0,>=0.3.0->spacy)\n",
      "  Using cached rich-14.0.0-py3-none-any.whl.metadata (18 kB)\n",
      "Collecting cloudpathlib<1.0.0,>=0.7.0 (from weasel<0.5.0,>=0.1.0->spacy)\n",
      "  Downloading cloudpathlib-0.21.0-py3-none-any.whl.metadata (14 kB)\n",
      "Collecting smart-open<8.0.0,>=5.2.1 (from weasel<0.5.0,>=0.1.0->spacy)\n",
      "  Downloading smart_open-7.1.0-py3-none-any.whl.metadata (24 kB)\n",
      "Collecting MarkupSafe>=2.0 (from jinja2->spacy)\n",
      "  Using cached MarkupSafe-3.0.2-cp311-cp311-win_amd64.whl.metadata (4.1 kB)\n",
      "Collecting marisa-trie>=1.1.0 (from language-data>=1.2->langcodes<4.0.0,>=3.2.0->spacy)\n",
      "  Downloading marisa_trie-1.2.1-cp311-cp311-win_amd64.whl.metadata (9.3 kB)\n",
      "Collecting markdown-it-py>=2.2.0 (from rich>=10.11.0->typer<1.0.0,>=0.3.0->spacy)\n",
      "  Using cached markdown_it_py-3.0.0-py3-none-any.whl.metadata (6.9 kB)\n",
      "Requirement already satisfied: pygments<3.0.0,>=2.13.0 in c:\\users\\dell\\python\\project\\mlops\\kidney-disease\\.conda\\lib\\site-packages (from rich>=10.11.0->typer<1.0.0,>=0.3.0->spacy) (2.19.1)\n",
      "Collecting wrapt (from smart-open<8.0.0,>=5.2.1->weasel<0.5.0,>=0.1.0->spacy)\n",
      "  Downloading wrapt-1.17.2-cp311-cp311-win_amd64.whl.metadata (6.5 kB)\n",
      "Collecting mdurl~=0.1 (from markdown-it-py>=2.2.0->rich>=10.11.0->typer<1.0.0,>=0.3.0->spacy)\n",
      "  Using cached mdurl-0.1.2-py3-none-any.whl.metadata (1.6 kB)\n",
      "Downloading spacy-3.8.5-cp311-cp311-win_amd64.whl (12.2 MB)\n",
      "   ---------------------------------------- 0.0/12.2 MB ? eta -:--:--\n",
      "    --------------------------------------- 0.3/12.2 MB ? eta -:--:--\n",
      "   -- ------------------------------------- 0.8/12.2 MB 2.1 MB/s eta 0:00:06\n",
      "   ---- ----------------------------------- 1.3/12.2 MB 2.0 MB/s eta 0:00:06\n",
      "   ----- ---------------------------------- 1.6/12.2 MB 1.9 MB/s eta 0:00:06\n",
      "   ------ --------------------------------- 1.8/12.2 MB 1.8 MB/s eta 0:00:06\n",
      "   ------ --------------------------------- 2.1/12.2 MB 1.8 MB/s eta 0:00:06\n",
      "   ------- -------------------------------- 2.4/12.2 MB 1.7 MB/s eta 0:00:06\n",
      "   --------- ------------------------------ 2.9/12.2 MB 1.7 MB/s eta 0:00:06\n",
      "   ----------- ---------------------------- 3.4/12.2 MB 1.7 MB/s eta 0:00:06\n",
      "   ------------ --------------------------- 3.9/12.2 MB 1.8 MB/s eta 0:00:05\n",
      "   --------------- ------------------------ 4.7/12.2 MB 1.9 MB/s eta 0:00:04\n",
      "   ----------------- ---------------------- 5.2/12.2 MB 2.0 MB/s eta 0:00:04\n",
      "   ------------------ --------------------- 5.5/12.2 MB 2.0 MB/s eta 0:00:04\n",
      "   ------------------- -------------------- 6.0/12.2 MB 1.9 MB/s eta 0:00:04\n",
      "   -------------------- ------------------- 6.3/12.2 MB 1.9 MB/s eta 0:00:04\n",
      "   ---------------------- ----------------- 6.8/12.2 MB 1.9 MB/s eta 0:00:03\n",
      "   ----------------------- ---------------- 7.1/12.2 MB 1.9 MB/s eta 0:00:03\n",
      "   ------------------------ --------------- 7.6/12.2 MB 1.9 MB/s eta 0:00:03\n",
      "   ------------------------- -------------- 7.9/12.2 MB 1.9 MB/s eta 0:00:03\n",
      "   -------------------------- ------------- 8.1/12.2 MB 1.8 MB/s eta 0:00:03\n",
      "   --------------------------- ------------ 8.4/12.2 MB 1.8 MB/s eta 0:00:03\n",
      "   ---------------------------- ----------- 8.7/12.2 MB 1.8 MB/s eta 0:00:03\n",
      "   ----------------------------- ---------- 8.9/12.2 MB 1.7 MB/s eta 0:00:02\n",
      "   ------------------------------ --------- 9.2/12.2 MB 1.7 MB/s eta 0:00:02\n",
      "   ------------------------------ --------- 9.2/12.2 MB 1.7 MB/s eta 0:00:02\n",
      "   ------------------------------ --------- 9.4/12.2 MB 1.6 MB/s eta 0:00:02\n",
      "   ------------------------------- -------- 9.7/12.2 MB 1.6 MB/s eta 0:00:02\n",
      "   ------------------------------- -------- 9.7/12.2 MB 1.6 MB/s eta 0:00:02\n",
      "   -------------------------------- ------- 10.0/12.2 MB 1.5 MB/s eta 0:00:02\n",
      "   --------------------------------- ------ 10.2/12.2 MB 1.5 MB/s eta 0:00:02\n",
      "   ---------------------------------- ----- 10.5/12.2 MB 1.5 MB/s eta 0:00:02\n",
      "   ---------------------------------- ----- 10.5/12.2 MB 1.5 MB/s eta 0:00:02\n",
      "   ----------------------------------- ---- 10.7/12.2 MB 1.5 MB/s eta 0:00:02\n",
      "   ------------------------------------ --- 11.0/12.2 MB 1.4 MB/s eta 0:00:01\n",
      "   ------------------------------------ --- 11.3/12.2 MB 1.4 MB/s eta 0:00:01\n",
      "   ------------------------------------- -- 11.5/12.2 MB 1.4 MB/s eta 0:00:01\n",
      "   -------------------------------------- - 11.8/12.2 MB 1.4 MB/s eta 0:00:01\n",
      "   ---------------------------------------  12.1/12.2 MB 1.4 MB/s eta 0:00:01\n",
      "   ---------------------------------------- 12.2/12.2 MB 1.4 MB/s eta 0:00:00\n",
      "Downloading catalogue-2.0.10-py3-none-any.whl (17 kB)\n",
      "Downloading cymem-2.0.11-cp311-cp311-win_amd64.whl (39 kB)\n",
      "Downloading langcodes-3.5.0-py3-none-any.whl (182 kB)\n",
      "Downloading murmurhash-1.0.12-cp311-cp311-win_amd64.whl (25 kB)\n",
      "Downloading preshed-3.0.9-cp311-cp311-win_amd64.whl (122 kB)\n",
      "Using cached pydantic-2.11.3-py3-none-any.whl (443 kB)\n",
      "Using cached pydantic_core-2.33.1-cp311-cp311-win_amd64.whl (2.0 MB)\n",
      "Downloading spacy_legacy-3.0.12-py2.py3-none-any.whl (29 kB)\n",
      "Downloading spacy_loggers-1.0.5-py3-none-any.whl (22 kB)\n",
      "Downloading srsly-2.5.1-cp311-cp311-win_amd64.whl (632 kB)\n",
      "   ---------------------------------------- 0.0/632.6 kB ? eta -:--:--\n",
      "   ---------------------------------------- 0.0/632.6 kB ? eta -:--:--\n",
      "   ---------------- ----------------------- 262.1/632.6 kB ? eta -:--:--\n",
      "   ------------------------------- ------ 524.3/632.6 kB 882.6 kB/s eta 0:00:01\n",
      "   -------------------------------------- 632.6/632.6 kB 910.3 kB/s eta 0:00:00\n",
      "Downloading thinc-8.3.6-cp311-cp311-win_amd64.whl (1.8 MB)\n",
      "   ---------------------------------------- 0.0/1.8 MB ? eta -:--:--\n",
      "   ----- ---------------------------------- 0.3/1.8 MB ? eta -:--:--\n",
      "   ----------- ---------------------------- 0.5/1.8 MB 1.3 MB/s eta 0:00:01\n",
      "   ----------------- ---------------------- 0.8/1.8 MB 1.5 MB/s eta 0:00:01\n",
      "   ----------------------------- ---------- 1.3/1.8 MB 1.4 MB/s eta 0:00:01\n",
      "   ----------------------------- ---------- 1.3/1.8 MB 1.4 MB/s eta 0:00:01\n",
      "   ----------------------------------- ---- 1.6/1.8 MB 1.3 MB/s eta 0:00:01\n",
      "   ---------------------------------------- 1.8/1.8 MB 1.2 MB/s eta 0:00:00\n",
      "Using cached typer-0.15.2-py3-none-any.whl (45 kB)\n",
      "Downloading wasabi-1.1.3-py3-none-any.whl (27 kB)\n",
      "Downloading weasel-0.4.1-py3-none-any.whl (50 kB)\n",
      "Using cached jinja2-3.1.6-py3-none-any.whl (134 kB)\n",
      "Using cached annotated_types-0.7.0-py3-none-any.whl (13 kB)\n",
      "Downloading blis-1.3.0-cp311-cp311-win_amd64.whl (6.2 MB)\n",
      "   ---------------------------------------- 0.0/6.2 MB ? eta -:--:--\n",
      "   - -------------------------------------- 0.3/6.2 MB ? eta -:--:--\n",
      "   --- ------------------------------------ 0.5/6.2 MB 2.1 MB/s eta 0:00:03\n",
      "   ------ --------------------------------- 1.0/6.2 MB 1.9 MB/s eta 0:00:03\n",
      "   -------- ------------------------------- 1.3/6.2 MB 1.9 MB/s eta 0:00:03\n",
      "   ----------- ---------------------------- 1.8/6.2 MB 1.9 MB/s eta 0:00:03\n",
      "   ------------- -------------------------- 2.1/6.2 MB 1.9 MB/s eta 0:00:03\n",
      "   ---------------- ----------------------- 2.6/6.2 MB 1.8 MB/s eta 0:00:03\n",
      "   ------------------ --------------------- 2.9/6.2 MB 1.8 MB/s eta 0:00:02\n",
      "   -------------------- ------------------- 3.1/6.2 MB 1.7 MB/s eta 0:00:02\n",
      "   --------------------- ------------------ 3.4/6.2 MB 1.7 MB/s eta 0:00:02\n",
      "   ------------------------- -------------- 3.9/6.2 MB 1.6 MB/s eta 0:00:02\n",
      "   -------------------------- ------------- 4.2/6.2 MB 1.6 MB/s eta 0:00:02\n",
      "   ---------------------------- ----------- 4.5/6.2 MB 1.6 MB/s eta 0:00:02\n",
      "   ------------------------------- -------- 5.0/6.2 MB 1.6 MB/s eta 0:00:01\n",
      "   ----------------------------------- ---- 5.5/6.2 MB 1.7 MB/s eta 0:00:01\n",
      "   -------------------------------------- - 6.0/6.2 MB 1.7 MB/s eta 0:00:01\n",
      "   ---------------------------------------- 6.2/6.2 MB 1.7 MB/s eta 0:00:00\n",
      "Downloading cloudpathlib-0.21.0-py3-none-any.whl (52 kB)\n",
      "Downloading confection-0.1.5-py3-none-any.whl (35 kB)\n",
      "Downloading language_data-1.3.0-py3-none-any.whl (5.4 MB)\n",
      "   ---------------------------------------- 0.0/5.4 MB ? eta -:--:--\n",
      "   ---------------------------------------- 0.0/5.4 MB ? eta -:--:--\n",
      "   - -------------------------------------- 0.3/5.4 MB ? eta -:--:--\n",
      "   --- ------------------------------------ 0.5/5.4 MB 1.1 MB/s eta 0:00:05\n",
      "   --- ------------------------------------ 0.5/5.4 MB 1.1 MB/s eta 0:00:05\n",
      "   ----- ---------------------------------- 0.8/5.4 MB 958.5 kB/s eta 0:00:05\n",
      "   ------- -------------------------------- 1.0/5.4 MB 1.0 MB/s eta 0:00:05\n",
      "   --------- ------------------------------ 1.3/5.4 MB 1.1 MB/s eta 0:00:04\n",
      "   ----------- ---------------------------- 1.6/5.4 MB 1.0 MB/s eta 0:00:04\n",
      "   ----------- ---------------------------- 1.6/5.4 MB 1.0 MB/s eta 0:00:04\n",
      "   ------------- -------------------------- 1.8/5.4 MB 931.8 kB/s eta 0:00:04\n",
      "   ------------- -------------------------- 1.8/5.4 MB 931.8 kB/s eta 0:00:04\n",
      "   --------------- ------------------------ 2.1/5.4 MB 870.1 kB/s eta 0:00:04\n",
      "   ----------------- ---------------------- 2.4/5.4 MB 854.9 kB/s eta 0:00:04\n",
      "   ----------------- ---------------------- 2.4/5.4 MB 854.9 kB/s eta 0:00:04\n",
      "   ------------------- -------------------- 2.6/5.4 MB 862.9 kB/s eta 0:00:04\n",
      "   ------------------- -------------------- 2.6/5.4 MB 862.9 kB/s eta 0:00:04\n",
      "   --------------------- ------------------ 2.9/5.4 MB 838.9 kB/s eta 0:00:03\n",
      "   ----------------------- ---------------- 3.1/5.4 MB 816.6 kB/s eta 0:00:03\n",
      "   ----------------------- ---------------- 3.1/5.4 MB 816.6 kB/s eta 0:00:03\n",
      "   ------------------------- -------------- 3.4/5.4 MB 798.8 kB/s eta 0:00:03\n",
      "   ------------------------- -------------- 3.4/5.4 MB 798.8 kB/s eta 0:00:03\n",
      "   --------------------------- ------------ 3.7/5.4 MB 796.0 kB/s eta 0:00:03\n",
      "   ----------------------------- ---------- 3.9/5.4 MB 807.1 kB/s eta 0:00:02\n",
      "   ------------------------------- -------- 4.2/5.4 MB 817.0 kB/s eta 0:00:02\n",
      "   ------------------------------- -------- 4.2/5.4 MB 817.0 kB/s eta 0:00:02\n",
      "   --------------------------------- ------ 4.5/5.4 MB 815.9 kB/s eta 0:00:02\n",
      "   --------------------------------- ------ 4.5/5.4 MB 815.9 kB/s eta 0:00:02\n",
      "   ----------------------------------- ---- 4.7/5.4 MB 796.6 kB/s eta 0:00:01\n",
      "   ------------------------------------ --- 5.0/5.4 MB 801.0 kB/s eta 0:00:01\n",
      "   ------------------------------------ --- 5.0/5.4 MB 801.0 kB/s eta 0:00:01\n",
      "   -------------------------------------- - 5.2/5.4 MB 807.0 kB/s eta 0:00:01\n",
      "   ---------------------------------------- 5.4/5.4 MB 803.7 kB/s eta 0:00:00\n",
      "Using cached MarkupSafe-3.0.2-cp311-cp311-win_amd64.whl (15 kB)\n",
      "Using cached rich-14.0.0-py3-none-any.whl (243 kB)\n",
      "Using cached shellingham-1.5.4-py2.py3-none-any.whl (9.8 kB)\n",
      "Downloading smart_open-7.1.0-py3-none-any.whl (61 kB)\n",
      "Using cached typing_inspection-0.4.0-py3-none-any.whl (14 kB)\n",
      "Downloading marisa_trie-1.2.1-cp311-cp311-win_amd64.whl (152 kB)\n",
      "Using cached markdown_it_py-3.0.0-py3-none-any.whl (87 kB)\n",
      "Downloading wrapt-1.17.2-cp311-cp311-win_amd64.whl (38 kB)\n",
      "Using cached mdurl-0.1.2-py3-none-any.whl (10.0 kB)\n",
      "Installing collected packages: cymem, wrapt, wasabi, typing-inspection, spacy-loggers, spacy-legacy, shellingham, pydantic-core, murmurhash, mdurl, MarkupSafe, marisa-trie, cloudpathlib, catalogue, blis, annotated-types, srsly, smart-open, pydantic, preshed, markdown-it-py, language-data, jinja2, rich, langcodes, confection, typer, thinc, weasel, spacy\n",
      "Successfully installed MarkupSafe-3.0.2 annotated-types-0.7.0 blis-1.3.0 catalogue-2.0.10 cloudpathlib-0.21.0 confection-0.1.5 cymem-2.0.11 jinja2-3.1.6 langcodes-3.5.0 language-data-1.3.0 marisa-trie-1.2.1 markdown-it-py-3.0.0 mdurl-0.1.2 murmurhash-1.0.12 preshed-3.0.9 pydantic-2.11.3 pydantic-core-2.33.1 rich-14.0.0 shellingham-1.5.4 smart-open-7.1.0 spacy-3.8.5 spacy-legacy-3.0.12 spacy-loggers-1.0.5 srsly-2.5.1 thinc-8.3.6 typer-0.15.2 typing-inspection-0.4.0 wasabi-1.1.3 weasel-0.4.1 wrapt-1.17.2\n",
      "Requirement already satisfied: nltk in c:\\users\\dell\\python\\project\\mlops\\kidney-disease\\.conda\\lib\\site-packages (3.9.1)\n",
      "Requirement already satisfied: click in c:\\users\\dell\\python\\project\\mlops\\kidney-disease\\.conda\\lib\\site-packages (from nltk) (8.1.8)\n",
      "Requirement already satisfied: joblib in c:\\users\\dell\\python\\project\\mlops\\kidney-disease\\.conda\\lib\\site-packages (from nltk) (1.4.2)\n",
      "Requirement already satisfied: regex>=2021.8.3 in c:\\users\\dell\\python\\project\\mlops\\kidney-disease\\.conda\\lib\\site-packages (from nltk) (2024.11.6)\n",
      "Requirement already satisfied: tqdm in c:\\users\\dell\\python\\project\\mlops\\kidney-disease\\.conda\\lib\\site-packages (from nltk) (4.67.1)\n",
      "Requirement already satisfied: colorama in c:\\users\\dell\\python\\project\\mlops\\kidney-disease\\.conda\\lib\\site-packages (from click->nltk) (0.4.6)\n",
      "Collecting en-core-web-sm==3.8.0\n",
      "  Downloading https://github.com/explosion/spacy-models/releases/download/en_core_web_sm-3.8.0/en_core_web_sm-3.8.0-py3-none-any.whl (12.8 MB)\n",
      "     ---------------------------------------- 0.0/12.8 MB ? eta -:--:--\n",
      "     ---------------------------------------- 0.0/12.8 MB ? eta -:--:--\n",
      "      --------------------------------------- 0.3/12.8 MB ? eta -:--:--\n",
      "      --------------------------------------- 0.3/12.8 MB ? eta -:--:--\n",
      "     - ------------------------------------- 0.5/12.8 MB 882.6 kB/s eta 0:00:14\n",
      "     - ------------------------------------- 0.5/12.8 MB 882.6 kB/s eta 0:00:14\n",
      "     -- ------------------------------------ 0.8/12.8 MB 633.2 kB/s eta 0:00:19\n",
      "     -- ------------------------------------ 0.8/12.8 MB 633.2 kB/s eta 0:00:19\n",
      "     --- ----------------------------------- 1.0/12.8 MB 662.5 kB/s eta 0:00:18\n",
      "     --- ----------------------------------- 1.3/12.8 MB 671.3 kB/s eta 0:00:18\n",
      "     --- ----------------------------------- 1.3/12.8 MB 671.3 kB/s eta 0:00:18\n",
      "     ---- ---------------------------------- 1.6/12.8 MB 671.1 kB/s eta 0:00:17\n",
      "     ---- ---------------------------------- 1.6/12.8 MB 671.1 kB/s eta 0:00:17\n",
      "     ----- --------------------------------- 1.8/12.8 MB 671.0 kB/s eta 0:00:17\n",
      "     ------ -------------------------------- 2.1/12.8 MB 695.1 kB/s eta 0:00:16\n",
      "     ------ -------------------------------- 2.1/12.8 MB 695.1 kB/s eta 0:00:16\n",
      "     ------- ------------------------------- 2.4/12.8 MB 706.3 kB/s eta 0:00:15\n",
      "     ------- ------------------------------- 2.6/12.8 MB 725.9 kB/s eta 0:00:15\n",
      "     -------- ------------------------------ 2.9/12.8 MB 752.4 kB/s eta 0:00:14\n",
      "     --------- ----------------------------- 3.1/12.8 MB 769.0 kB/s eta 0:00:13\n",
      "     --------- ----------------------------- 3.1/12.8 MB 769.0 kB/s eta 0:00:13\n",
      "     ---------- ---------------------------- 3.4/12.8 MB 780.4 kB/s eta 0:00:13\n",
      "     ----------- --------------------------- 3.7/12.8 MB 796.0 kB/s eta 0:00:12\n",
      "     ----------- --------------------------- 3.9/12.8 MB 810.0 kB/s eta 0:00:11\n",
      "     ------------ -------------------------- 4.2/12.8 MB 825.2 kB/s eta 0:00:11\n",
      "     ------------- ------------------------- 4.5/12.8 MB 826.0 kB/s eta 0:00:11\n",
      "     ------------- ------------------------- 4.5/12.8 MB 826.0 kB/s eta 0:00:11\n",
      "     -------------- ------------------------ 4.7/12.8 MB 817.2 kB/s eta 0:00:10\n",
      "     -------------- ------------------------ 4.7/12.8 MB 817.2 kB/s eta 0:00:10\n",
      "     --------------- ----------------------- 5.0/12.8 MB 786.4 kB/s eta 0:00:10\n",
      "     --------------- ----------------------- 5.0/12.8 MB 786.4 kB/s eta 0:00:10\n",
      "     --------------- ----------------------- 5.0/12.8 MB 786.4 kB/s eta 0:00:10\n",
      "     --------------- ----------------------- 5.2/12.8 MB 764.5 kB/s eta 0:00:10\n",
      "     --------------- ----------------------- 5.2/12.8 MB 764.5 kB/s eta 0:00:10\n",
      "     ---------------- ---------------------- 5.5/12.8 MB 755.8 kB/s eta 0:00:10\n",
      "     ---------------- ---------------------- 5.5/12.8 MB 755.8 kB/s eta 0:00:10\n",
      "     ----------------- --------------------- 5.8/12.8 MB 741.7 kB/s eta 0:00:10\n",
      "     ----------------- --------------------- 5.8/12.8 MB 741.7 kB/s eta 0:00:10\n",
      "     ------------------ -------------------- 6.0/12.8 MB 733.8 kB/s eta 0:00:10\n",
      "     ------------------ -------------------- 6.0/12.8 MB 733.8 kB/s eta 0:00:10\n",
      "     ------------------- ------------------- 6.3/12.8 MB 728.1 kB/s eta 0:00:09\n",
      "     ------------------- ------------------- 6.3/12.8 MB 728.1 kB/s eta 0:00:09\n",
      "     ------------------- ------------------- 6.6/12.8 MB 719.0 kB/s eta 0:00:09\n",
      "     ------------------- ------------------- 6.6/12.8 MB 719.0 kB/s eta 0:00:09\n",
      "     -------------------- ------------------ 6.8/12.8 MB 719.5 kB/s eta 0:00:09\n",
      "     --------------------- ----------------- 7.1/12.8 MB 722.2 kB/s eta 0:00:08\n",
      "     --------------------- ----------------- 7.1/12.8 MB 722.2 kB/s eta 0:00:08\n",
      "     ---------------------- ---------------- 7.3/12.8 MB 723.6 kB/s eta 0:00:08\n",
      "     ---------------------- ---------------- 7.3/12.8 MB 723.6 kB/s eta 0:00:08\n",
      "     ----------------------- --------------- 7.6/12.8 MB 718.3 kB/s eta 0:00:08\n",
      "     ----------------------- --------------- 7.9/12.8 MB 720.8 kB/s eta 0:00:07\n",
      "     ----------------------- --------------- 7.9/12.8 MB 720.8 kB/s eta 0:00:07\n",
      "     ------------------------ -------------- 8.1/12.8 MB 725.2 kB/s eta 0:00:07\n",
      "     ------------------------- ------------- 8.4/12.8 MB 726.4 kB/s eta 0:00:07\n",
      "     -------------------------- ------------ 8.7/12.8 MB 732.4 kB/s eta 0:00:06\n",
      "     -------------------------- ------------ 8.7/12.8 MB 732.4 kB/s eta 0:00:06\n",
      "     --------------------------- ----------- 8.9/12.8 MB 739.2 kB/s eta 0:00:06\n",
      "     --------------------------- ----------- 9.2/12.8 MB 740.8 kB/s eta 0:00:05\n",
      "     ---------------------------- ---------- 9.4/12.8 MB 746.1 kB/s eta 0:00:05\n",
      "     ---------------------------- ---------- 9.4/12.8 MB 746.1 kB/s eta 0:00:05\n",
      "     ----------------------------- --------- 9.7/12.8 MB 749.3 kB/s eta 0:00:05\n",
      "     ----------------------------- -------- 10.0/12.8 MB 755.2 kB/s eta 0:00:04\n",
      "     ----------------------------- -------- 10.0/12.8 MB 755.2 kB/s eta 0:00:04\n",
      "     ------------------------------ ------- 10.2/12.8 MB 747.4 kB/s eta 0:00:04\n",
      "     ------------------------------ ------- 10.2/12.8 MB 747.4 kB/s eta 0:00:04\n",
      "     ------------------------------- ------ 10.5/12.8 MB 747.8 kB/s eta 0:00:04\n",
      "     ------------------------------- ------ 10.7/12.8 MB 748.2 kB/s eta 0:00:03\n",
      "     ------------------------------- ------ 10.7/12.8 MB 748.2 kB/s eta 0:00:03\n",
      "     -------------------------------- ----- 11.0/12.8 MB 750.1 kB/s eta 0:00:03\n",
      "     --------------------------------- ---- 11.3/12.8 MB 754.4 kB/s eta 0:00:03\n",
      "     ---------------------------------- --- 11.5/12.8 MB 757.8 kB/s eta 0:00:02\n",
      "     ----------------------------------- -- 11.8/12.8 MB 760.2 kB/s eta 0:00:02\n",
      "     ----------------------------------- -- 12.1/12.8 MB 766.5 kB/s eta 0:00:01\n",
      "     ----------------------------------- -- 12.1/12.8 MB 766.5 kB/s eta 0:00:01\n",
      "     ------------------------------------ - 12.3/12.8 MB 770.2 kB/s eta 0:00:01\n",
      "     -------------------------------------  12.6/12.8 MB 776.1 kB/s eta 0:00:01\n",
      "     -------------------------------------- 12.8/12.8 MB 772.7 kB/s eta 0:00:00\n",
      "Installing collected packages: en-core-web-sm\n",
      "Successfully installed en-core-web-sm-3.8.0\n",
      "\u001b[38;5;2m✔ Download and installation successful\u001b[0m\n",
      "You can now load the package via spacy.load('en_core_web_sm')\n"
     ]
    }
   ],
   "source": [
    "%pip install spacy \n",
    "%pip install nltk \n",
    "%python -m spacy download en_core_web_sm"
   ]
  },
  {
   "cell_type": "code",
   "execution_count": 14,
   "id": "25e575d6",
   "metadata": {},
   "outputs": [],
   "source": [
    "import pandas as pd \n",
    "import spacy \n",
    "import requests \n",
    "from bs4 import BeautifulSoup\n",
    "nlp = spacy.load(\"en_core_web_sm\")\n",
    "pd.set_option(\"display.max_rows\", 200)"
   ]
  },
  {
   "cell_type": "code",
   "execution_count": 20,
   "id": "67576d4f",
   "metadata": {},
   "outputs": [
    {
     "name": "stdout",
     "output_type": "stream",
     "text": [
      "The Eiffel Tower 0 16 LOC\n",
      "1887 to 1889 32 44 DATE\n",
      "Gustave Eiffel 48 62 PERSON\n"
     ]
    }
   ],
   "source": [
    "\n",
    "doc = nlp(sentence)\n",
    "\n",
    "for ent in doc.ents:\n",
    "    print(ent.text, ent.start_char, ent.end_char, ent.label_)\n"
   ]
  },
  {
   "cell_type": "code",
   "execution_count": 21,
   "id": "381df9f9",
   "metadata": {},
   "outputs": [
    {
     "data": {
      "text/html": [
       "<span class=\"tex2jax_ignore\"><div class=\"entities\" style=\"line-height: 2.5; direction: ltr\">\n",
       "<mark class=\"entity\" style=\"background: #ff9561; padding: 0.45em 0.6em; margin: 0 0.25em; line-height: 1; border-radius: 0.35em;\">\n",
       "    The Eiffel Tower\n",
       "    <span style=\"font-size: 0.8em; font-weight: bold; line-height: 1; border-radius: 0.35em; vertical-align: middle; margin-left: 0.5rem\">LOC</span>\n",
       "</mark>\n",
       " was built from \n",
       "<mark class=\"entity\" style=\"background: #bfe1d9; padding: 0.45em 0.6em; margin: 0 0.25em; line-height: 1; border-radius: 0.35em;\">\n",
       "    1887 to 1889\n",
       "    <span style=\"font-size: 0.8em; font-weight: bold; line-height: 1; border-radius: 0.35em; vertical-align: middle; margin-left: 0.5rem\">DATE</span>\n",
       "</mark>\n",
       " by \n",
       "<mark class=\"entity\" style=\"background: #aa9cfc; padding: 0.45em 0.6em; margin: 0 0.25em; line-height: 1; border-radius: 0.35em;\">\n",
       "    Gustave Eiffel\n",
       "    <span style=\"font-size: 0.8em; font-weight: bold; line-height: 1; border-radius: 0.35em; vertical-align: middle; margin-left: 0.5rem\">PERSON</span>\n",
       "</mark>\n",
       ", whose company specialized in building metal frameworks and structures.</div></span>"
      ],
      "text/plain": [
       "<IPython.core.display.HTML object>"
      ]
     },
     "metadata": {},
     "output_type": "display_data"
    }
   ],
   "source": [
    "from spacy import displacy\n",
    "displacy.render(doc, style=\"ent\")\n"
   ]
  },
  {
   "cell_type": "code",
   "execution_count": 22,
   "id": "9808c7b7",
   "metadata": {},
   "outputs": [
    {
     "name": "stdout",
     "output_type": "stream",
     "text": [
      "               text    type             lemma\n",
      "0  The Eiffel Tower     LOC  the Eiffel Tower\n",
      "1      1887 to 1889    DATE      1887 to 1889\n",
      "2    Gustave Eiffel  PERSON    Gustave Eiffel\n"
     ]
    }
   ],
   "source": [
    "entities = [(ent.text, ent.label_, ent.lemma_) for ent in doc.ents]\n",
    "df = pd.DataFrame(entities, columns=['text', 'type', 'lemma'])\n",
    "print(df)"
   ]
  },
  {
   "cell_type": "code",
   "execution_count": null,
   "id": "1d02e625",
   "metadata": {},
   "outputs": [],
   "source": []
  }
 ],
 "metadata": {
  "kernelspec": {
   "display_name": "Python 3",
   "language": "python",
   "name": "python3"
  },
  "language_info": {
   "codemirror_mode": {
    "name": "ipython",
    "version": 3
   },
   "file_extension": ".py",
   "mimetype": "text/x-python",
   "name": "python",
   "nbconvert_exporter": "python",
   "pygments_lexer": "ipython3",
   "version": "3.11.11"
  }
 },
 "nbformat": 4,
 "nbformat_minor": 5
}
